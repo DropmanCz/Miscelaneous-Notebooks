{
    "metadata": {
        "kernelspec": {
            "name": "SQL",
            "display_name": "SQL",
            "language": "sql"
        },
        "language_info": {
            "name": "sql",
            "version": ""
        }
    },
    "nbformat_minor": 2,
    "nbformat": 4,
    "cells": [
        {
            "cell_type": "markdown",
            "source": [
                "# Základy administrace SQL Serveru\r\n",
                "V tomto notebooku následují tyto ukázky:\r\n",
                "- Zálohování databáze v **SIMPLE** recovery modelu\r\n",
                "- Zálohování databáze ve **FULL** recovery modelu\r\n",
                "- Kontrola konzistence databáze příkazem **DBCC CHECKDB**\r\n",
                "- Kontrola fragmentace indexů pomocí **sys.dm_db_index_physical_stats**\r\n",
                "\r\n",
                "*Pozn.: Skripty v tomto notebooku lze spustit s tím, že před jejich spuštěním je nutno upravit názvy databází a cesty.*"
            ],
            "metadata": {
                "azdata_cell_guid": "4fb76a46-dd43-45b7-bd9e-021abd686c97"
            },
            "attachments": {}
        },
        {
            "cell_type": "markdown",
            "source": [
                "## 1A - Zálohování databáze v **SIMPLE** recovery modelu\r\n",
                "- jednou se nastaví databázová vlastnost **RECOVERY** na **SIMPLE** následujícím příkazem"
            ],
            "metadata": {
                "azdata_cell_guid": "1b6231cc-1292-466d-b0bb-0c0fc3c7db92"
            },
            "attachments": {}
        },
        {
            "cell_type": "code",
            "source": [
                "USE master\r\n",
                "go\r\n",
                "\r\n",
                "ALTER DATABASE AdventureWorks SET RECOVERY SIMPLE\r\n",
                "GO"
            ],
            "metadata": {
                "azdata_cell_guid": "71849195-5d9c-40d7-884c-6ee6f4d94662",
                "language": "sql"
            },
            "outputs": [],
            "execution_count": null
        },
        {
            "cell_type": "markdown",
            "source": [
                "... po provedení předchozího nastavení (*Pozn.: Je dobré toto nastavení provést hned po vytvoření databáze, pokud ji nechceme zálohovat plným postupem*) se periodicky (např. jednou denně) spouští příkaz **BACKUP DATABASE**"
            ],
            "metadata": {
                "language": "sql",
                "azdata_cell_guid": "2e3c57eb-3057-4d13-9ba4-3290b5fdfd0d"
            },
            "attachments": {}
        },
        {
            "cell_type": "code",
            "source": [
                "BACKUP DATABASE AdventureWorks TO DISK = 'Z:\\MojeZalohy\\AW.bak'\r\n",
                "WITH\r\n",
                "CHECKSUM\r\n",
                ", COMPRESSION\r\n",
                ", INIT"
            ],
            "metadata": {
                "language": "sql",
                "azdata_cell_guid": "7d135972-765b-49ec-837d-e58df1252b71"
            },
            "outputs": [],
            "execution_count": null
        },
        {
            "cell_type": "markdown",
            "source": [
                "Uvedený příkaz provede každý den zálohu do stejného souboru:\r\n",
                "- díky klíčovému slovu **INIT** bude v souboru vždy poslední provedená záloha\r\n",
                "- díky klíčovému slovu **CHECKSUM** může SQL Server při kontrole čitelnosti zálohy přepočítat a porovnat kontrolní součet\r\n",
                "- díky klíčovému slovu **COMPRESSION** bude soubor se zálohou menší (klidně 5x) a záloha se vykoná výrazně rychleji; cenou za tuto rychlost je zvýšení zátěže CPU o 5 až 10 %\r\n",
                "\r\n",
                "### Kontrola čitelnosti zálohy\r\n",
                "Kontrolu čitelnosti zálohy lze spouštět pokaždé jako součást příkazu BACKUP jako druhý příkaz."
            ],
            "metadata": {
                "language": "sql",
                "azdata_cell_guid": "36a44248-ccb8-443b-a1d1-47aa3093ccb1"
            },
            "attachments": {}
        },
        {
            "cell_type": "code",
            "source": [
                "RESTORE VERIFYONLY FROM DISK = 'Z:\\MojeZalohy\\AW.bak' WITH CHECKSUM"
            ],
            "metadata": {
                "language": "sql",
                "azdata_cell_guid": "3d762917-8f74-423f-bf4d-0b717d6a57ae"
            },
            "outputs": [],
            "execution_count": null
        },
        {
            "cell_type": "markdown",
            "source": [
                "### Retence záloh\n",
                "\n",
                "Předchozí příklad uchovává vždy jen poslední zálohu. Pro možnost držet zálohy po delší čas, se dá tento příkaz zmodifikovat tak, že se každému souboru zálohy vypočítá jeho jméno založené na čase."
            ],
            "metadata": {
                "language": "sql",
                "azdata_cell_guid": "4fcf2581-24eb-4a91-b99a-94554f3d0e10"
            },
            "attachments": {}
        },
        {
            "cell_type": "code",
            "source": [
                "DECLARE @datum date = SYSDATETIME()\r\n",
                ", @cesta nvarchar(200) = N'Z:\\MojeZalohy\\AW'\r\n",
                "\r\n",
                "SET @cesta += CONVERT(char(8), @datum, 112) + '.bak'\r\n",
                "-- PRINT @cesta\r\n",
                "\r\n",
                "BACKUP DATABASE AdventureWorks TO DISK = @cesta\r\n",
                "WITH\r\n",
                "CHECKSUM\r\n",
                ", COMPRESSION\r\n",
                ", INIT"
            ],
            "metadata": {
                "language": "sql",
                "azdata_cell_guid": "f4389209-d090-430b-af48-25891293284e"
            },
            "outputs": [],
            "execution_count": null
        },
        {
            "cell_type": "markdown",
            "source": [
                "## 1B - Zálohování databáze ve **FULL** recovery modelu\r\n",
                "- jednou se nastaví databázová vlastnost **RECOVERY** na **FULL** následujícím příkazem"
            ],
            "metadata": {
                "language": "sql",
                "azdata_cell_guid": "e2f29216-b68f-4dad-a24d-d35c8c0d7927"
            },
            "attachments": {}
        },
        {
            "cell_type": "code",
            "source": [
                "USE master\r\n",
                "go\r\n",
                "\r\n",
                "ALTER DATABASE AdventureWorks SET RECOVERY FULL\r\n",
                "GO"
            ],
            "metadata": {
                "language": "sql",
                "azdata_cell_guid": "5bb3b090-fb00-44e5-a425-d7ab9fb370d9"
            },
            "outputs": [],
            "execution_count": null
        },
        {
            "cell_type": "markdown",
            "source": [
                "... po provedení předchozího nastavení (*Pozn.: Je dobré toto nastavení provést hned po vytvoření databáze, pokud ji chceme zálohovat plným postupem*) se periodicky (např. jednou denně) spouští příkaz **BACKUP DATABASE**"
            ],
            "metadata": {
                "language": "sql",
                "azdata_cell_guid": "1a53ee6c-d1a6-4b99-b1f4-33e50e63be93"
            },
            "attachments": {}
        },
        {
            "cell_type": "code",
            "source": [
                "BACKUP DATABASE AdventureWorks TO DISK = 'Z:\\MojeZalohy\\AW.bak'\r\n",
                "WITH\r\n",
                "CHECKSUM\r\n",
                ", COMPRESSION\r\n",
                ", INIT"
            ],
            "metadata": {
                "language": "sql",
                "azdata_cell_guid": "2bdccd2c-8f44-4c72-85ee-3f9a6a8bbbcd"
            },
            "outputs": [],
            "execution_count": null
        },
        {
            "cell_type": "markdown",
            "source": [
                "Předchozí příkaz reinicializuje soubor, do kterého se pak budou přidávat zálohy transakčního logu, např. jednou za hodinu, viz následující příkaz:"
            ],
            "metadata": {
                "language": "sql",
                "azdata_cell_guid": "cf2a6bc7-90cf-438b-98bb-028119b9547a"
            },
            "attachments": {}
        },
        {
            "cell_type": "code",
            "source": [
                "BACKUP LOG AdventureWorks TO DISK = 'Z:\\MojeZalohy\\AW.bak'\r\n",
                "WITH\r\n",
                "CHECKSUM\r\n",
                ", COMPRESSION\r\n",
                ", NOINIT"
            ],
            "metadata": {
                "language": "sql",
                "azdata_cell_guid": "ca7aba9e-126e-4d74-9f71-a319ef471182"
            },
            "outputs": [],
            "execution_count": null
        },
        {
            "cell_type": "markdown",
            "source": [
                "Povšimněme si rozdílů:\n",
                "- místo klíčového slova **DATABASE** je v příkazu **BACKUP** slovo **LOG**\n",
                "- místo klíčového slova **INIT** je použito klíčové slovo **NOINIT**, což znamená, že zálohy transakčního logu se budou **přidávat** do stávajícího souboru *.bak*. Pro kontrolu, co všechno je v souboru *.bak* už umístěno, můžeme spustit následující příkaz:"
            ],
            "metadata": {
                "language": "sql",
                "azdata_cell_guid": "a4e48713-a579-4bac-9cb6-8e92c83bb376"
            },
            "attachments": {}
        },
        {
            "cell_type": "code",
            "source": [
                "RESTORE HEADERONLY FROM DISK = 'Z:\\MojeZalohy\\AW.bak'"
            ],
            "metadata": {
                "language": "sql",
                "azdata_cell_guid": "56dc1694-03dd-4129-b25d-1b931f145309"
            },
            "outputs": [],
            "execution_count": null
        },
        {
            "cell_type": "markdown",
            "source": [
                "## 2 - Monitorování a údržba fragmentace dat\r\n",
                "Fragmentaci dat v databázi snadno zjistíme dotazem na DMO **sys.dm_db_index_physical_stats()**. Tato funkce \"trpí\" na chybu malých čísel, proto je dobré její výsledek trochu odfiltrovat. V následujícím příkladu se zajímáme pouze o fragmentaci větší než 5 % u objektů, které se skládají alespoň ze 100 datových stránek."
            ],
            "metadata": {
                "language": "sql",
                "azdata_cell_guid": "3649216b-8202-4ad3-bfaa-92554bf5ad0c"
            },
            "attachments": {}
        },
        {
            "cell_type": "code",
            "source": [
                "USE AdventureWorks\r\n",
                "GO\r\n",
                "\r\n",
                "SELECT\r\n",
                "    stat.object_id\r\n",
                "    , stat.index_id\r\n",
                "    , CONCAT(OBJECT_SCHEMA_NAME(stat.object_id), '.', OBJECT_NAME(stat.object_id)) as full_object_name\r\n",
                "    , i.name as index_name\r\n",
                "    , avg_fragmentation_in_percent\r\n",
                "FROM sys.dm_db_index_physical_stats(DB_ID(), null, null, null, null) as stat\r\n",
                "    JOIN sys.indexes as i ON i.object_id = stat.object_id AND i.index_id = stat.index_id\r\n",
                "WHERE page_count >= 100 AND avg_fragmentation_in_percent > 5\r\n",
                ""
            ],
            "metadata": {
                "language": "sql",
                "azdata_cell_guid": "a797907e-bb84-4b02-b47b-bfda9ceca331"
            },
            "outputs": [],
            "execution_count": null
        },
        {
            "cell_type": "markdown",
            "source": [
                "Předchozí příklad ukazuje monitorování míry fragmentace. Pro její odstranění lze použít např. skript uvedený na této adrese: [GitHub - DropmanCz/sqlscripts](https://github.com/DropmanCz/sqlscripts/blob/master/defragment%20db%20from%20one%20point.sql)."
            ],
            "metadata": {
                "language": "sql",
                "azdata_cell_guid": "85304a7c-d6ed-431e-8988-3d47cfb343c5"
            },
            "attachments": {}
        },
        {
            "cell_type": "markdown",
            "source": [
                "## 3 - Kontrola konzistence databáze\r\n",
                "Kontrola konzistence (pokud možno ne náprava zjištěných konzistenčních chyb) se provádí příkazem **DBCC CHECKDB()**. Bohužel, pokud SQL Server není Enterprise edice, tento příkaz vyžaduje databázi v **SINGLE_USER** režimu. V Enterprise edici tento příkaz exkluzivitu přístupu na databázi nepožaduje."
            ],
            "metadata": {
                "language": "sql",
                "azdata_cell_guid": "355f7927-d745-4e52-9f12-6393711ae605"
            },
            "attachments": {}
        },
        {
            "cell_type": "code",
            "source": [
                "USE AdventureWorks\r\n",
                "GO\r\n",
                "\r\n",
                "DBCC CHECKDB() WITH NO_INFOMSGS"
            ],
            "metadata": {
                "language": "sql",
                "azdata_cell_guid": "2b4b7af0-7a42-4ddb-a270-5fadd7ef23a3"
            },
            "outputs": [],
            "execution_count": null
        },
        {
            "cell_type": "markdown",
            "source": [
                "Předcházející volání s použitím **NO_INFOMSGS** by v ideálním případě mělo skončit jen oznámením, že se nic nestalo. Pokud jsou ve výsledku chyby, jedná se o chyby konzistence. Chybový text obsahuje:\r\n",
                "- označení poškozené databázové stránky - použije se pozdějí v příkazu **RESTORE DATABASE**\r\n",
                "- nabídku, jak stránku \"opravit\" pomocí **DBCC CHECKDB()** - **NIKDY NEPOUŽÍVAT**"
            ],
            "metadata": {
                "language": "sql",
                "azdata_cell_guid": "a6f4af52-46e8-41c9-a2e3-9b53716d2db8"
            },
            "attachments": {}
        }
    ]
}