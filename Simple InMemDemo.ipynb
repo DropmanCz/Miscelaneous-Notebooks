{
    "metadata": {
        "kernelspec": {
            "name": "SQL",
            "display_name": "SQL",
            "language": "sql"
        },
        "language_info": {
            "name": "sql",
            "version": ""
        }
    },
    "nbformat_minor": 2,
    "nbformat": 4,
    "cells": [
        {
            "cell_type": "markdown",
            "source": "# In-Memory OLTP\r\nNásledující sada příkladů slouží k ukázce nasazení In-Memory objektů v MS SQL databázi. Provedeny jsou následující kroky: <br/>\r\n1. Vytvoření prázdné databáze<br/>\r\n2. Vytvoření memory optimized filegroup (pro odkládání in-memory dat)<br/>\r\n3. Vytvoření in-memory tabulky<br/>\r\n4. Vytvoření nativně kompilované procedury<br/>\r\n    4.1. Tabulkový datový typ jako parameter (také in-memory)<br/>\r\n    4.2. Procedura používající tento tabulkový typ<br/>\r\n    4.3. Vygenerování 1 mio testovacích záznamů<br/>\r\n5. Vytvoření procedury pro odkládání dat z in-memory objektů na disk (snapshot isolation level) ",
            "metadata": {}
        },
        {
            "cell_type": "markdown",
            "source": "## Vyčištění prostředí\r\nChceme začít načisto",
            "metadata": {}
        },
        {
            "cell_type": "code",
            "source": "USE master\r\nGO\r\n\r\nDROP DATABASE IF EXISTS InMemDemo\r\nGO",
            "metadata": {},
            "outputs": [
                {
                    "output_type": "display_data",
                    "data": {
                        "text/html": "Commands completed successfully."
                    },
                    "metadata": {}
                },
                {
                    "output_type": "display_data",
                    "data": {
                        "text/html": "Total execution time: 00:00:00.0281192"
                    },
                    "metadata": {}
                },
                {
                    "output_type": "display_data",
                    "data": {
                        "text/html": "Commands completed successfully."
                    },
                    "metadata": {}
                },
                {
                    "output_type": "display_data",
                    "data": {
                        "text/html": "Total execution time: 00:00:02.1216756"
                    },
                    "metadata": {}
                }
            ],
            "execution_count": 12
        },
        {
            "cell_type": "markdown",
            "source": "## In-Memory OLTP v praxi; vytvoření prázdné databáze\r\nDatabáze jako každá jiná, žádné extra konfigurace",
            "metadata": {}
        },
        {
            "cell_type": "code",
            "source": "CREATE DATABASE InMemDemo\r\nGO\r\nALTER DATABASE InMemDemo SET RECOVERY SIMPLE;\r\nGO",
            "metadata": {},
            "outputs": [
                {
                    "output_type": "display_data",
                    "data": {
                        "text/html": "Commands completed successfully."
                    },
                    "metadata": {}
                },
                {
                    "output_type": "display_data",
                    "data": {
                        "text/html": "Total execution time: 00:00:01.2631369"
                    },
                    "metadata": {}
                },
                {
                    "output_type": "display_data",
                    "data": {
                        "text/html": "Commands completed successfully."
                    },
                    "metadata": {}
                },
                {
                    "output_type": "display_data",
                    "data": {
                        "text/html": "Total execution time: 00:00:00.0660121"
                    },
                    "metadata": {}
                }
            ],
            "execution_count": 2
        },
        {
            "cell_type": "markdown",
            "source": "## In-Memory OLTP v praxi; přidání memory optimized FG\r\n\r\nMemory optimized filegroup je ve skutečnosti filestream, do kterého SQL Server při checkpointu (mimo uživatelskou transakci) ukládá *dump* paměťových objektů",
            "metadata": {}
        },
        {
            "cell_type": "code",
            "source": "ALTER DATABASE InMemDemo ADD FILEGROUP INMEM\r\nCONTAINS MEMORY_OPTIMIZED_DATA\r\nGO",
            "metadata": {},
            "outputs": [
                {
                    "output_type": "display_data",
                    "data": {
                        "text/html": "Commands completed successfully."
                    },
                    "metadata": {}
                },
                {
                    "output_type": "display_data",
                    "data": {
                        "text/html": "Total execution time: 00:00:00.0378410"
                    },
                    "metadata": {}
                }
            ],
            "execution_count": 3
        },
        {
            "cell_type": "markdown",
            "source": "### Folder do filegroup\r\n...jinak by FG nedávala smysl",
            "metadata": {}
        },
        {
            "cell_type": "code",
            "source": "ALTER DATABASE InMemDemo ADD FILE\r\n(\r\n    NAME = 'InMemFile'\r\n    , FILENAME = 'D:\\InMemFs'\r\n\r\n) TO FILEGROUP  INMEM",
            "metadata": {},
            "outputs": [
                {
                    "output_type": "display_data",
                    "data": {
                        "text/html": "Commands completed successfully."
                    },
                    "metadata": {}
                },
                {
                    "output_type": "display_data",
                    "data": {
                        "text/html": "Total execution time: 00:00:00.1354943"
                    },
                    "metadata": {}
                }
            ],
            "execution_count": 4
        },
        {
            "cell_type": "markdown",
            "source": "TEĎ JE DATABÁZE NACHYSTANÁ NA PAMĚŤOVÉ OBJEKTY",
            "metadata": {}
        },
        {
            "cell_type": "markdown",
            "source": "## Vytvoření in-memory tabulky s dodržením ACID vlastností\r\nTabulka je tzv. *full durable*, protože má nastavenu vlastnost DURABILITY = SCHEMA_AND_DATA\r\n<br/>\r\nIndex je \"HASH\", počet kapes v indexu je násobek čísla 2^20.  ",
            "metadata": {}
        },
        {
            "cell_type": "code",
            "source": "USE InMemDemo\r\nGO\r\nDROP TABLE IF EXISTS dbo.InMemCisla\r\nGO\r\nCREATE TABLE dbo.InMemCisla\r\n(\r\n    Id int not null primary key nonclustered hash with (bucket_count=2097152)\r\n    , DatumACas datetime2 not null default(sysdatetime())\r\n    , NahodneCislo dec(10,4) not null\r\n) with (memory_optimized = on, durability = schema_and_data)",
            "metadata": {},
            "outputs": [
                {
                    "output_type": "display_data",
                    "data": {
                        "text/html": "Commands completed successfully."
                    },
                    "metadata": {}
                },
                {
                    "output_type": "display_data",
                    "data": {
                        "text/html": "Total execution time: 00:00:00.0249657"
                    },
                    "metadata": {}
                },
                {
                    "output_type": "display_data",
                    "data": {
                        "text/html": "Commands completed successfully."
                    },
                    "metadata": {}
                },
                {
                    "output_type": "display_data",
                    "data": {
                        "text/html": "Total execution time: 00:00:00.0249396"
                    },
                    "metadata": {}
                },
                {
                    "output_type": "display_data",
                    "data": {
                        "text/html": "Commands completed successfully."
                    },
                    "metadata": {}
                },
                {
                    "output_type": "display_data",
                    "data": {
                        "text/html": "Total execution time: 00:00:04.2047485"
                    },
                    "metadata": {}
                }
            ],
            "execution_count": 5
        },
        {
            "cell_type": "markdown",
            "source": "## Vytvoření memory optimized datového typu\r\nBude sloužit jako parametr uložené procedury",
            "metadata": {}
        },
        {
            "cell_type": "code",
            "source": "USE InMemDemo\r\nGO\r\n\r\nCREATE TYPE dbo.InMemType\r\nAS TABLE\r\n(\r\n    Id int not null primary key nonclustered hash with (bucket_count = 1048576)\r\n    , NahodneCislo dec(10,4)\r\n)\r\nWITH (MEMORY_OPTIMIZED = ON)",
            "metadata": {},
            "outputs": [
                {
                    "output_type": "display_data",
                    "data": {
                        "text/html": "Commands completed successfully."
                    },
                    "metadata": {}
                },
                {
                    "output_type": "display_data",
                    "data": {
                        "text/html": "Total execution time: 00:00:00.0238900"
                    },
                    "metadata": {}
                },
                {
                    "output_type": "display_data",
                    "data": {
                        "text/html": "Commands completed successfully."
                    },
                    "metadata": {}
                },
                {
                    "output_type": "display_data",
                    "data": {
                        "text/html": "Total execution time: 00:00:00.5359755"
                    },
                    "metadata": {}
                }
            ],
            "execution_count": 6
        },
        {
            "cell_type": "markdown",
            "source": "## Nativně kompilovaná procedura (zatím) bez parametru\r\nProcedura pro ilustraci rychlosti generování 1.000.000 náhodných záznamů.",
            "metadata": {}
        },
        {
            "cell_type": "code",
            "source": "USE InMemDemo\r\nGO\r\n\r\nCREATE OR ALTER PROC dbo.procInMemRandomNumbers\r\nWITH NATIVE_COMPILATION, SCHEMABINDING\r\nAS\r\nBEGIN ATOMIC WITH (TRANSACTION ISOLATION LEVEL = SNAPSHOT, LANGUAGE = 'us_english')\r\n    DECLARE @i int = 1\r\n    WHILE @i <= 1000000\r\n     BEGIN\r\n        INSERT dbo.InMemCisla (Id, NahodneCislo) VALUES (@i, RAND() * 1000)\r\n        SET @i += 1\r\n     END\r\nEND",
            "metadata": {},
            "outputs": [
                {
                    "output_type": "display_data",
                    "data": {
                        "text/html": "Commands completed successfully."
                    },
                    "metadata": {}
                },
                {
                    "output_type": "display_data",
                    "data": {
                        "text/html": "Total execution time: 00:00:00.0264396"
                    },
                    "metadata": {}
                },
                {
                    "output_type": "display_data",
                    "data": {
                        "text/html": "Commands completed successfully."
                    },
                    "metadata": {}
                },
                {
                    "output_type": "display_data",
                    "data": {
                        "text/html": "Total execution time: 00:00:00.5241079"
                    },
                    "metadata": {}
                }
            ],
            "execution_count": 7
        },
        {
            "cell_type": "markdown",
            "source": "... a teď spustit a měřit...",
            "metadata": {}
        },
        {
            "cell_type": "code",
            "source": "USE InMemDemo\r\nGO\r\nDELETE dbo.InMemCisla\r\nGO\r\nEXEC dbo.procInMemRandomNumbers\r\nGO\r\n\r\nSELECT COUNT(*) FROM dbo.InMemCisla\r\nGO",
            "metadata": {},
            "outputs": [
                {
                    "output_type": "display_data",
                    "data": {
                        "text/html": "Commands completed successfully."
                    },
                    "metadata": {}
                },
                {
                    "output_type": "display_data",
                    "data": {
                        "text/html": "Total execution time: 00:00:00.0242152"
                    },
                    "metadata": {}
                },
                {
                    "output_type": "display_data",
                    "data": {
                        "text/html": "(1000000 rows affected)"
                    },
                    "metadata": {}
                },
                {
                    "output_type": "display_data",
                    "data": {
                        "text/html": "Total execution time: 00:00:01.2273445"
                    },
                    "metadata": {}
                },
                {
                    "output_type": "display_data",
                    "data": {
                        "text/html": "Commands completed successfully."
                    },
                    "metadata": {}
                },
                {
                    "output_type": "display_data",
                    "data": {
                        "text/html": "Total execution time: 00:00:05.2078878"
                    },
                    "metadata": {}
                },
                {
                    "output_type": "display_data",
                    "data": {
                        "text/html": "(1 row affected)"
                    },
                    "metadata": {}
                },
                {
                    "output_type": "display_data",
                    "data": {
                        "text/html": "Total execution time: 00:00:00.0585396"
                    },
                    "metadata": {}
                },
                {
                    "output_type": "execute_result",
                    "metadata": {},
                    "execution_count": 9,
                    "data": {
                        "application/vnd.dataresource+json": {
                            "schema": {
                                "fields": [
                                    {
                                        "name": "(No column name)"
                                    }
                                ]
                            },
                            "data": [
                                {
                                    "0": "1000000"
                                }
                            ]
                        },
                        "text/html": "<table><tr><th>(No column name)</th></tr><tr><td>1000000</td></tr></table>"
                    }
                }
            ],
            "execution_count": 9
        },
        {
            "cell_type": "markdown",
            "source": "## Příklad s tabulkovým parametrem\r\nV reálném nasazení byl použit tabulkový parametr, který obsahoval záznamy načtené ze zdroje. ",
            "metadata": {}
        },
        {
            "cell_type": "code",
            "source": "USE InMemDemo\r\nGO\r\n\r\nCREATE OR ALTER PROC dbo.procInMemRandomNumbersPar\r\n    @data dbo.InMemType readonly\r\nWITH NATIVE_COMPILATION, SCHEMABINDING\r\nAS\r\nBEGIN ATOMIC WITH (TRANSACTION ISOLATION LEVEL = SNAPSHOT, LANGUAGE = 'us_english')\r\n    DECLARE @start time = sysdatetime()\r\n    INSERT dbo.InMemCisla (Id, NahodneCislo) SELECT Id, NahodneCislo FROM @data\r\n    DECLARE @stop time = sysdatetime()\r\n    SELECT datediff(microsecond, @start, @stop) as CommandMicroseconds\r\nEND",
            "metadata": {},
            "outputs": [
                {
                    "output_type": "display_data",
                    "data": {
                        "text/html": "Commands completed successfully."
                    },
                    "metadata": {}
                },
                {
                    "output_type": "display_data",
                    "data": {
                        "text/html": "Total execution time: 00:00:00.0242618"
                    },
                    "metadata": {}
                },
                {
                    "output_type": "display_data",
                    "data": {
                        "text/html": "Commands completed successfully."
                    },
                    "metadata": {}
                },
                {
                    "output_type": "display_data",
                    "data": {
                        "text/html": "Total execution time: 00:00:00.5384137"
                    },
                    "metadata": {}
                }
            ],
            "execution_count": 10
        },
        {
            "cell_type": "markdown",
            "source": "## Test spuštění\r\nČísla jsou vygenerována napřed do proměnné (obdoba naštení dat z výrobní linky), pak procedura záznamy jen zpracuje.\r\n",
            "metadata": {}
        },
        {
            "cell_type": "code",
            "source": "USE InMemDemo\r\nGO\r\nSET NOCOUNT ON\r\nDELETE dbo.InMemCisla\r\nGO\r\nDECLARE @data dbo.InMemType\r\nDECLARE @i int = 1\r\nWHILE @i <= 1000000\r\n BEGIN\r\n    INSERT @data (Id, NahodneCislo) VALUES (@i, RAND() * 1000)\r\n    SET @i += 1\r\n END\r\nEXEC dbo.procInMemRandomNumbersPar @data",
            "metadata": {},
            "outputs": [
                {
                    "output_type": "display_data",
                    "data": {
                        "text/html": "Commands completed successfully."
                    },
                    "metadata": {}
                },
                {
                    "output_type": "display_data",
                    "data": {
                        "text/html": "Total execution time: 00:00:00.0247312"
                    },
                    "metadata": {}
                },
                {
                    "output_type": "display_data",
                    "data": {
                        "text/html": "Commands completed successfully."
                    },
                    "metadata": {}
                },
                {
                    "output_type": "display_data",
                    "data": {
                        "text/html": "Total execution time: 00:00:01.2162307"
                    },
                    "metadata": {}
                },
                {
                    "output_type": "display_data",
                    "data": {
                        "text/html": "Commands completed successfully."
                    },
                    "metadata": {}
                },
                {
                    "output_type": "display_data",
                    "data": {
                        "text/html": "Total execution time: 00:00:18.1396843"
                    },
                    "metadata": {}
                },
                {
                    "output_type": "execute_result",
                    "metadata": {},
                    "execution_count": 11,
                    "data": {
                        "application/vnd.dataresource+json": {
                            "schema": {
                                "fields": [
                                    {
                                        "name": "CommandMicroseconds"
                                    }
                                ]
                            },
                            "data": [
                                {
                                    "0": "1093776"
                                }
                            ]
                        },
                        "text/html": "<table><tr><th>CommandMicroseconds</th></tr><tr><td>1093776</td></tr></table>"
                    }
                }
            ],
            "execution_count": 11
        },
        {
            "cell_type": "markdown",
            "source": "## Odklání dat do diskové tabulky\r\nNejpodstatnější je v explicitní transakci hint *snapshot*! Následující kód se nebude spouštět (tabulka dbo.tabulkaOnDisk neexistuje). Následující kód neobsahuje kompletní ošetření chybových stavů.",
            "metadata": {}
        },
        {
            "cell_type": "code",
            "source": "USE InMemDemo\r\nGO\r\nBEGIN TRAN\r\n    INSERT dbo.tabulkaOnDisk SELECT * FROM dbo.InMemCisla (snapshot)\r\n    DELETE dbo.InMemCisla (snapshot)\r\nCOMMIT",
            "metadata": {},
            "outputs": []
        }
    ]
}