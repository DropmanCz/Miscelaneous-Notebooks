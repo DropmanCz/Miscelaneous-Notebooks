{
    "metadata": {
        "kernelspec": {
            "name": "SQL",
            "display_name": "SQL",
            "language": "sql"
        },
        "language_info": {
            "name": "sql",
            "version": ""
        }
    },
    "nbformat_minor": 2,
    "nbformat": 4,
    "cells": [
        {
            "cell_type": "markdown",
            "source": "# Průzkum tempdb\r\nNásledující příklad slouží k průzkumu vlastností a chování databáze tempdb.<br/>\r\n1. Diagnostika pomocí DMV\r\n2. Nedokumentovaný průzkum pomocí DBCC\r\n3. Diagnostika PAGELATCH_ čekání pomocí XE",
            "metadata": {}
        },
        {
            "cell_type": "markdown",
            "source": "## 1. Diagnostika pomocí DMV\r\nTrvalá databáze vs. tempdb",
            "metadata": {}
        },
        {
            "cell_type": "code",
            "source": "use msdb\r\nselect * from sys.dm_db_file_space_usage\r\nGO\r\nuse tempdb\r\nselect * from sys.dm_db_file_space_usage\r\nGO",
            "metadata": {},
            "outputs": [],
            "execution_count": 0
        },
        {
            "cell_type": "markdown",
            "source": "V předchozí ukázce je vidět, že výsledek předchozích dotazů se liší ve sloupcích *version_store_...*, *user_object_...* a *internal_object_...*\r\n\r\n## 2. Diagnostika pomocí DBCC funkcí\r\nNe všechny DBCC jsou dokumentované. Pro průzkum tempdb (nebo kterékoliv jiné databáze) lze použít DBCC PAGE funkci. Pro nápovědu k funkci DBCC PAGE je nutno použít TF 2588, pro zobrazení výsledku DBCC PAGE (nebo dalších nedokumentovaných DBCC funkcí) je nutno zapnout TF 3604.",
            "metadata": {}
        },
        {
            "cell_type": "code",
            "source": "use tempdb\r\n\r\ndbcc help('?')\r\ndbcc traceon(2588)  -- plny seznam a napovedy k DBCC\r\ndbcc help('?')\r\ndbcc help('page')\r\n\r\ndbcc page(2,1,1,3)\t-- PFS\r\ndbcc traceon(3604)\r\ndbcc page(2,1,1,3)\t-- PFS\r\n\r\n\r\n-- DMF pro ziskani alokaci pro jednotlive objekty\r\nselect * from sys.dm_db_database_page_allocations(2, null, null, null, null)   \r\n\r\n-- konec\r\ndbcc traceoff(3604)",
            "metadata": {},
            "outputs": [],
            "execution_count": 0
        },
        {
            "cell_type": "markdown",
            "source": "## 3. Diagnostika PAGELATCH_ čekání pomocí XE\r\nExtended Events (XE) jsou velmi silný diagnostický nástroj, ale je třeba si na ně zvyknout. Následující kód ukazuje jak založit XE session a jak ji dále rozebrat.",
            "metadata": {}
        },
        {
            "cell_type": "code",
            "source": "CREATE EVENT SESSION [pagelach on tempdb] ON SERVER \r\nADD EVENT sqlos.wait_info(\r\n    ACTION(sqlserver.database_id,sqlserver.sql_text)\r\n    WHERE ([sqlserver].[database_id]=(2)))\r\nADD TARGET package0.event_file(SET filename=N'D:\\temp\\pagelatch.xel')\r\nGO\r\n\r\nALTER EVENT SESSION [pagelach on tempdb] ON SERVER STATE = START\r\n\r\n-- muze nasledovat simulace zateze\r\n\r\nALTER EVENT SESSION [pagelach on tempdb] ON SERVER STATE = STOP",
            "metadata": {},
            "outputs": [],
            "execution_count": 0
        },
        {
            "cell_type": "markdown",
            "source": "XE session vytvořena, zachytává událost \"wait info\", která nastane v databázi tempdb (viz filtr)\r\n\r\nNásleduje rozbor získaného logu",
            "metadata": {}
        },
        {
            "cell_type": "code",
            "source": "-- #xel temp. table is used instead of the [xel] CTE to speed up the initial processing\r\ndrop table if exists #xel\r\nselect * \r\n\t, cast(event_data as xml) as xml_event_data\r\ninto #xel\r\nfrom sys.fn_xe_file_target_read_file('d:\\temp\\pagelatch_0_13195644*.xel', null, null, null)\r\n\r\nselect top 1000 * from #xel\r\n\r\n--;with xel as (\r\n--select * \r\n--\t, cast(event_data as xml) as xml_event_data\r\n--from sys.fn_xe_file_target_read_file('d:\\temp\\pagelatch_0_131956*.xel', null, null, null)\r\n--)\r\n--, \r\n\r\n;with shred as\r\n(\r\nselect\r\n\txel.*\r\n\t, c.value('(data[@name=\"wait_type\"]/text)[1]', 'nvarchar(50)') as wait_type\r\n\t, c.value('(data[@name=\"wait_resource\"]/value)[1]', 'nvarchar(50)') as wait_res\r\n\t, c.value('(action[@name=\"sql_text\"]/value)[1]', 'nvarchar(4000)') as sql_text\r\n\t, c.value('(data[@name=\"opcode\"]/text)[1]', 'nvarchar(10)') as opcode\r\n\t, c.value('(data[@name=\"duration\"]/value)[1]', 'int') as duration\r\n\t, c.value('(data[@name=\"signal_duration\"]/value)[1]', 'int') as signal_duration\r\n\t, c.value('(action[@name=\"database_id\"]/value)[1]', 'int') as database_id\r\nfrom #xel as xel\r\n\tcross apply xml_event_data.nodes('event') as t(c)\r\n)\r\nselect *\r\nfrom shred\r\nwhere wait_type like 'page%latch%'\r\n\tand opcode = 'End'\r\n\t--and sql_text like '%\\#%' {escape '\\'}",
            "metadata": {},
            "outputs": [],
            "execution_count": 0
        }
    ]
}