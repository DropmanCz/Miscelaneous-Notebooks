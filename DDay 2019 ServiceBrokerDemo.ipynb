{
    "metadata": {
        "kernelspec": {
            "name": "SQL",
            "display_name": "SQL",
            "language": "sql"
        },
        "language_info": {
            "name": "sql",
            "version": ""
        }
    },
    "nbformat_minor": 2,
    "nbformat": 4,
    "cells": [
        {
            "cell_type": "markdown",
            "source": "# Service Broker Demo\r\nNásledující příklad slouží k ukázce asynchronního volání na SQL Server. Alternativou může být využití služeb jako např. MSMQ.\r\nV příkladu bude:<br/>\r\n1. Připravena jednoduchá databáze včetně nutné konfigurace (BROKER_ENABLED)\r\n2. Vytvořena sada objektů, které jsou nutné pro vytvoření SB instance\r\n3. Otestováno asynchronní volání\r\n\r\n## Příprava databáze\r\nVytvoření prázdné databáze pro Service Broker a její konfigurace",
            "metadata": {}
        },
        {
            "cell_type": "code",
            "source": "USE master\r\nGO\r\n\r\nDROP DATABASE IF EXISTS SBDemo\r\nGO\r\n\r\nCREATE DATABASE SBDemo\r\nGO\r\n\r\nALTER DATABASE SBDemo SET SINGLE_USER WITH ROLLBACK IMMEDIATE\r\nALTER DATABASE SBDemo SET ENABLE_BROKER\r\nALTER DATABASE SBDemo SET MULTI_USER\r\nGO",
            "metadata": {},
            "outputs": [
                {
                    "output_type": "display_data",
                    "data": {
                        "text/html": "Commands completed successfully."
                    },
                    "metadata": {}
                },
                {
                    "output_type": "display_data",
                    "data": {
                        "text/html": "Total execution time: 00:00:00.0235781"
                    },
                    "metadata": {}
                },
                {
                    "output_type": "display_data",
                    "data": {
                        "text/html": "Commands completed successfully."
                    },
                    "metadata": {}
                },
                {
                    "output_type": "display_data",
                    "data": {
                        "text/html": "Total execution time: 00:00:00.0530236"
                    },
                    "metadata": {}
                },
                {
                    "output_type": "display_data",
                    "data": {
                        "text/html": "Commands completed successfully."
                    },
                    "metadata": {}
                },
                {
                    "output_type": "display_data",
                    "data": {
                        "text/html": "Total execution time: 00:00:01.2009774"
                    },
                    "metadata": {}
                },
                {
                    "output_type": "display_data",
                    "data": {
                        "text/html": "Commands completed successfully."
                    },
                    "metadata": {}
                },
                {
                    "output_type": "display_data",
                    "data": {
                        "text/html": "Total execution time: 00:00:00.0776484"
                    },
                    "metadata": {}
                }
            ],
            "execution_count": 35
        },
        {
            "cell_type": "markdown",
            "source": "Databáze má *povolen* Service Broker, to znamená, že na pozadí vznikly systémové objekty (metadata) pro jeho *popis*.\r\nV následujícím kroku začnou být tvořeny jednotlivé SB objekty. Prvním z nich je message type.\r\n\r\n## Vytvoření Message Type\r\nMessage Type definuje formát zpráv zasílaných mezi účastníky konverzace. Message Type může být typu EMPTY, WELL_FORMED_XML nebo VALID_XML. Pro VALID_XML je třeba nejprve vytvořit XML SCHEMA COLLECTION (xsd popis formátu xml), což je databázový objekt, ve kterém je uložen obsah xsd souboru jako řetězec. My se spokojíme s WELL_FORMED_XML.\r\n*Poznámka: použití xsd schémat urychluje zpracování velkého množstí (i malých) XML dokumentů*",
            "metadata": {}
        },
        {
            "cell_type": "code",
            "source": "USE SBDemo\r\nGO\r\n\r\nCREATE MESSAGE TYPE AsyncRequest VALIDATION = WELL_FORMED_XML\r\nGO",
            "metadata": {},
            "outputs": [
                {
                    "output_type": "display_data",
                    "data": {
                        "text/html": "Commands completed successfully."
                    },
                    "metadata": {}
                },
                {
                    "output_type": "display_data",
                    "data": {
                        "text/html": "Total execution time: 00:00:00.0194158"
                    },
                    "metadata": {}
                },
                {
                    "output_type": "display_data",
                    "data": {
                        "text/html": "Commands completed successfully."
                    },
                    "metadata": {}
                },
                {
                    "output_type": "display_data",
                    "data": {
                        "text/html": "Total execution time: 00:00:00.0293518"
                    },
                    "metadata": {}
                }
            ],
            "execution_count": 36
        },
        {
            "cell_type": "markdown",
            "source": "Náš příklad bude používat jediný message type prostě pojmenovaný AsyncRequest. Když jsou definovány všechny Message Types, definuje se Contract, objekt, který říká, který z účastníků konverzace může poslat zprávu daného typu.\r\n\r\n## Vytvoření kontraktu",
            "metadata": {}
        },
        {
            "cell_type": "code",
            "source": "USE SBDemo\r\nGO\r\n\r\nCREATE CONTRACT AsyncContract\r\n(\r\nAsyncRequest SENT BY INITIATOR\r\n)\r\nGO",
            "metadata": {},
            "outputs": [
                {
                    "output_type": "display_data",
                    "data": {
                        "text/html": "Commands completed successfully."
                    },
                    "metadata": {}
                },
                {
                    "output_type": "display_data",
                    "data": {
                        "text/html": "Total execution time: 00:00:00.0205517"
                    },
                    "metadata": {}
                },
                {
                    "output_type": "display_data",
                    "data": {
                        "text/html": "Commands completed successfully."
                    },
                    "metadata": {}
                },
                {
                    "output_type": "display_data",
                    "data": {
                        "text/html": "Total execution time: 00:00:00.0245930"
                    },
                    "metadata": {}
                }
            ],
            "execution_count": 37
        },
        {
            "cell_type": "markdown",
            "source": "Výše vytvořený kontrakt říká, že jediná zpráva v konverzaci bude typu AsyncRequest (definovaný Message Type), a že ji posílá INITIATOR - žadatel. Pokud by zpráv bylo v konverzaci více, tak je může posílat také TARGET (příjemce, zpracovatel požadavku), nebo ANY (kdokoliv).\r\n\r\n## Vytvoření front a služeb\r\nKaždá zpráva (i odpověď) je zaslána do fronty. Fronta je přiřazena službě (service), která má definováno, jaké kontrakty přijímá. Takto lze vytvořit v jedné databázi více služeb pro různé kontrakty.",
            "metadata": {}
        },
        {
            "cell_type": "code",
            "source": "USE SBDemo\r\nGO\r\n\r\n-- the queue and the service to which requests come (in a communication between two instances it is created on the initiator side)\r\nCREATE QUEUE InitiatorQueue\r\n\r\nCREATE SERVICE InitiatorService \r\nON QUEUE InitiatorQueue (AsyncContract)\r\n\r\n-- the queue and the service from which requests depart (created on the target side, endpoints links this queue with the initiator's queue)\r\nCREATE QUEUE TargetRequestQueue\r\n\r\nCREATE SERVICE TargetRequestService \r\nON QUEUE TargetRequestQueue (AsyncContract)\r\nGO",
            "metadata": {},
            "outputs": [
                {
                    "output_type": "display_data",
                    "data": {
                        "text/html": "Commands completed successfully."
                    },
                    "metadata": {}
                },
                {
                    "output_type": "display_data",
                    "data": {
                        "text/html": "Total execution time: 00:00:00.0208882"
                    },
                    "metadata": {}
                },
                {
                    "output_type": "display_data",
                    "data": {
                        "text/html": "Commands completed successfully."
                    },
                    "metadata": {}
                },
                {
                    "output_type": "display_data",
                    "data": {
                        "text/html": "Total execution time: 00:00:00.0642181"
                    },
                    "metadata": {}
                }
            ],
            "execution_count": 38
        },
        {
            "cell_type": "markdown",
            "source": "Fronty a služby se dělají dvě - pro zaslání požadavku ze zdrojového volání, a pro přijetí požadavků cílem. Tyto fronty mohou být na různých instancích SQL Serverů, pak jsou propojeny endpointy.\r\n\r\n## Service program\r\nUložená procedura, která zpracuje příchozí požadavek.",
            "metadata": {}
        },
        {
            "cell_type": "code",
            "source": "USE SBDemo\r\nGO\r\n\r\nDROP TABLE IF EXISTS ProcessedRequests\r\nCREATE TABLE ProcessedRequests\r\n(\r\n    Id int not null identity primary key\r\n    , RequestXml xml\r\n    , TimeOfMessage datetime2 not null default(sysdatetime())\r\n)\r\nGO\r\n\r\nCREATE OR ALTER PROC dbo.procServiceProgram\r\nAS\r\nDECLARE \r\n    @conversation_handle uniqueidentifier\r\n    , @msgBody xml\r\n    , @msgType sysname;\r\n \r\nreceive top (1)\r\n@conversation_handle = conversation_handle,\r\n@msgBody = CAST(message_body AS XML),\r\n@msgType= message_type_name\r\nfrom TargetRequestQueue\r\n \r\nif @msgType = N'AsyncRequest'\r\nbegin\r\n    insert dbo.ProcessedRequests (RequestXml) values (@msgBody)\r\n    end conversation @conversation_handle;\r\nend\r\ngo",
            "metadata": {},
            "outputs": [
                {
                    "output_type": "display_data",
                    "data": {
                        "text/html": "Commands completed successfully."
                    },
                    "metadata": {}
                },
                {
                    "output_type": "display_data",
                    "data": {
                        "text/html": "Total execution time: 00:00:00.0216398"
                    },
                    "metadata": {}
                },
                {
                    "output_type": "display_data",
                    "data": {
                        "text/html": "Commands completed successfully."
                    },
                    "metadata": {}
                },
                {
                    "output_type": "display_data",
                    "data": {
                        "text/html": "Total execution time: 00:00:00.0326444"
                    },
                    "metadata": {}
                },
                {
                    "output_type": "display_data",
                    "data": {
                        "text/html": "Commands completed successfully."
                    },
                    "metadata": {}
                },
                {
                    "output_type": "display_data",
                    "data": {
                        "text/html": "Total execution time: 00:00:00.0362768"
                    },
                    "metadata": {}
                }
            ],
            "execution_count": 39
        },
        {
            "cell_type": "markdown",
            "source": "Service program vytvořený v tomto kroku se přiřadí službě. V následujícím příkladu tak, že bude spuštěn hned po příchodu zprávy.\r\n\r\n## Automatická aktivace service programu",
            "metadata": {}
        },
        {
            "cell_type": "code",
            "source": "USE SBDemo\r\nGO\r\nalter queue TargetRequestQueue\r\n    with activation\r\n    ( \r\n      status = on,\r\n      procedure_name = dbo.procServiceProgram,\r\n      max_queue_readers = 1,\r\n      execute as self\r\n    )\r\ngo",
            "metadata": {},
            "outputs": [
                {
                    "output_type": "display_data",
                    "data": {
                        "text/html": "Commands completed successfully."
                    },
                    "metadata": {}
                },
                {
                    "output_type": "display_data",
                    "data": {
                        "text/html": "Total execution time: 00:00:00.0207952"
                    },
                    "metadata": {}
                },
                {
                    "output_type": "display_data",
                    "data": {
                        "text/html": "Commands completed successfully."
                    },
                    "metadata": {}
                },
                {
                    "output_type": "display_data",
                    "data": {
                        "text/html": "Total execution time: 00:00:00.0270438"
                    },
                    "metadata": {}
                }
            ],
            "execution_count": 40
        },
        {
            "cell_type": "markdown",
            "source": "## Test řešení",
            "metadata": {}
        },
        {
            "cell_type": "code",
            "source": "USE SBDemo\r\nGO\r\nSET NOCOUNT ON\r\ndeclare @conversation_handle uniqueidentifier;\r\n\r\nbegin dialog conversation @conversation_handle\r\nfrom service InitiatorService\r\nto service 'TargetRequestService'\r\non contract AsyncContract\r\nwith encryption = off;\r\n\r\nselect @conversation_handle;\r\n\r\nsend on conversation @conversation_handle\r\nmessage type AsyncRequest('<Test>Hello world!</Test>')\r\nselect 'Hello from requesting script!'\r\ngo\r\n\r\n-- select * from [dbo].[InitiatorQueue]\r\n-- select * from [dbo].[TargetRequestQueue]\r\nselect * from dbo.ProcessedRequests\r\nGO",
            "metadata": {},
            "outputs": [
                {
                    "output_type": "display_data",
                    "data": {
                        "text/html": "Commands completed successfully."
                    },
                    "metadata": {}
                },
                {
                    "output_type": "display_data",
                    "data": {
                        "text/html": "Total execution time: 00:00:00.0235005"
                    },
                    "metadata": {}
                },
                {
                    "output_type": "display_data",
                    "data": {
                        "text/html": "Commands completed successfully."
                    },
                    "metadata": {}
                },
                {
                    "output_type": "display_data",
                    "data": {
                        "text/html": "Total execution time: 00:00:00.0423772"
                    },
                    "metadata": {}
                },
                {
                    "output_type": "display_data",
                    "data": {
                        "text/html": "Commands completed successfully."
                    },
                    "metadata": {}
                },
                {
                    "output_type": "display_data",
                    "data": {
                        "text/html": "Total execution time: 00:00:00.0290802"
                    },
                    "metadata": {}
                },
                {
                    "output_type": "execute_result",
                    "metadata": {},
                    "execution_count": 43,
                    "data": {
                        "application/vnd.dataresource+json": {
                            "schema": {
                                "fields": [
                                    {
                                        "name": "(No column name)"
                                    }
                                ]
                            },
                            "data": [
                                {
                                    "0": "4e93ada4-a256-e911-a952-000d3a45c463"
                                }
                            ]
                        },
                        "text/html": "<table><tr><th>(No column name)</th></tr><tr><td>4e93ada4-a256-e911-a952-000d3a45c463</td></tr></table>"
                    }
                },
                {
                    "output_type": "execute_result",
                    "metadata": {},
                    "execution_count": 43,
                    "data": {
                        "application/vnd.dataresource+json": {
                            "schema": {
                                "fields": [
                                    {
                                        "name": "Id"
                                    },
                                    {
                                        "name": "RequestXml"
                                    },
                                    {
                                        "name": "TimeOfMessage"
                                    }
                                ]
                            },
                            "data": [
                                {
                                    "0": "1",
                                    "1": "<Test>Hello world!</Test>",
                                    "2": "2019-04-04 06:22:45.0616128"
                                },
                                {
                                    "0": "2",
                                    "1": "<Test>Hello world!</Test>",
                                    "2": "2019-04-04 06:26:30.3789826"
                                },
                                {
                                    "0": "3",
                                    "1": "<Test>Hello world!</Test>",
                                    "2": "2019-04-04 06:26:56.9196882"
                                }
                            ]
                        },
                        "text/html": "<table><tr><th>Id</th><th>RequestXml</th><th>TimeOfMessage</th></tr><tr><td>1</td><td>&lt;Test&gt;Hello world!&lt;/Test&gt;</td><td>2019-04-04 06:22:45.0616128</td></tr><tr><td>2</td><td>&lt;Test&gt;Hello world!&lt;/Test&gt;</td><td>2019-04-04 06:26:30.3789826</td></tr><tr><td>3</td><td>&lt;Test&gt;Hello world!&lt;/Test&gt;</td><td>2019-04-04 06:26:56.9196882</td></tr></table>"
                    }
                },
                {
                    "output_type": "execute_result",
                    "metadata": {},
                    "execution_count": 43,
                    "data": {
                        "application/vnd.dataresource+json": {
                            "schema": {
                                "fields": [
                                    {
                                        "name": "(No column name)"
                                    }
                                ]
                            },
                            "data": [
                                {
                                    "0": "Hello from requesting script!"
                                }
                            ]
                        },
                        "text/html": "<table><tr><th>(No column name)</th></tr><tr><td>Hello from requesting script!</td></tr></table>"
                    }
                }
            ],
            "execution_count": 43
        }
    ]
}